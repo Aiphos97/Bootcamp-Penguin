{
 "cells": [
  {
   "cell_type": "markdown",
   "metadata": {},
   "source": [
    "Challenge🤺 - 20m\n",
    "Escribe un programa que pregunte al usuario por su edad y determine si tiene edad suficiente para comprar y consumir alcohol.\n",
    "Si el usuario tiene mas de 18 pero menos de 21 impirmir \"Podes tomar pero no comprar\"\n",
    "Si el usuario tiene menos de 18 imprimir \"Juguito nomas\"\n",
    "Si el usuario tiene mas de 21 imprimir \"Hace lo que quieras\""
   ]
  },
  {
   "cell_type": "code",
   "execution_count": 10,
   "metadata": {},
   "outputs": [
    {
     "name": "stdout",
     "output_type": "stream",
     "text": [
      "Hace lo que quieras\n"
     ]
    }
   ],
   "source": [
    "edades = int(input('Ingrese su edad'))\n",
    "\n",
    "if edades < 18 :\n",
    "   print(\"Juguito nomás podes tomar\")\n",
    "elif edades >= 18 and edades < 21:\n",
    "    print(\"Podes tomar pero no comprar\")\n",
    "else :\n",
    "    print(\"Hace lo que quieras\")\n",
    "\n"
   ]
  },
  {
   "cell_type": "code",
   "execution_count": 1,
   "metadata": {},
   "outputs": [],
   "source": [
    "def capacidad_alcohol (edades):\n",
    "    if edades < 18 :\n",
    "         print(\"Juguito nomás podes tomar\")\n",
    "    elif edades >= 18 and edades < 21:\n",
    "         print(\"Podes tomar pero no comprar\")\n",
    "    else :\n",
    "        print(\"Hace lo que quieras\")\n",
    "\n",
    "edades = int(input('Ingrese su edad'))\n",
    "capacidad_alcohol(edades)\n",
    "\n"
   ]
  },
  {
   "cell_type": "markdown",
   "metadata": {},
   "source": [
    "Challenge 🤺 - 30m\n",
    "Escribir un programa en el que se pregunte al usuario por una temperatura (en grados Celsius), imprima la temperatura escrita, y luego clasificar la temperatura ingresada en los siguientes niveles:\n",
    "\n",
    "Entre -10 y 18 grados, que imprima \"Fresquete\".\n",
    "Entre 19 y 30 grados, que imprima \"Calor'i\".\n",
    "Entre 31 y 45 grados, que imprima \"Hakuuuuuu\".\n",
    "Para todo lo demás, imprimir \"Ñamano mba'e!\"."
   ]
  },
  {
   "cell_type": "code",
   "execution_count": 7,
   "metadata": {},
   "outputs": [
    {
     "name": "stdout",
     "output_type": "stream",
     "text": [
      "La temperatura es de 50.0 grados Celsius\n",
      "Ñamano mba'e!\n"
     ]
    }
   ],
   "source": [
    "temperatura = float(input('Ingrese la temperatura en celsius'))\n",
    "\n",
    "print(f'La temperatura es de {temperatura} grados Celsius')\n",
    "if temperatura >= -10 and temperatura <=18 :\n",
    "    print('Fresquete')\n",
    "elif temperatura >= 19 and temperatura <=30 :\n",
    "    print('Calor \\'i')\n",
    "elif temperatura >= 31 and temperatura <= 45:\n",
    "    print('Hakuuuuuu')\n",
    "else :\n",
    "    print('Ñamano mba\\'e!')    \n"
   ]
  },
  {
   "cell_type": "markdown",
   "metadata": {},
   "source": [
    "Escribir un programa que almacene una contraseña en una variable, y pregunte al usuario por la contraseña hasta que introduzca la contraseña correcta.\n",
    "\n",
    "Cuando el usuario ingrese la contrasena correcta, imprimir un mensaje secreto."
   ]
  },
  {
   "cell_type": "code",
   "execution_count": 7,
   "metadata": {},
   "outputs": [
    {
     "name": "stdout",
     "output_type": "stream",
     "text": [
      "Mensaje secreto!\n"
     ]
    }
   ],
   "source": [
    "contraseña = input('La contraseña para guardar es ?')\n",
    "contraseña_inp = input('Cual es la contraseña?')\n",
    "while contraseña != contraseña_inp :\n",
    "    contraseña_inp = input('Contraseña incorrecta, intente de nuevo')\n",
    "print('Mensaje secreto!')\n"
   ]
  },
  {
   "cell_type": "markdown",
   "metadata": {},
   "source": [
    "Challenge 🤺 - 20m\n",
    "Crear una lista de 5 elementos. Luego, seguir los siguientes pasos.\n",
    "\n",
    "Agregar un elemento al final de la lista.\n",
    "\n",
    "Modificar el segundo elemento.\n",
    "\n",
    "Eliminar el tercer elemento.\n"
   ]
  },
  {
   "cell_type": "code",
   "execution_count": null,
   "metadata": {},
   "outputs": [],
   "source": []
  },
  {
   "cell_type": "code",
   "execution_count": 13,
   "metadata": {},
   "outputs": [
    {
     "name": "stdout",
     "output_type": "stream",
     "text": [
      "['gato', 'perro', 'hamster', 'pez', 'loro']\n",
      "['gato', 'perro', 'hamster', 'pez', 'loro', 'conejo']\n",
      "['gato', 'axolote', 'hamster', 'pez', 'loro', 'conejo']\n",
      "['gato', 'axolote', 'pez', 'loro', 'conejo']\n"
     ]
    }
   ],
   "source": [
    "lista = ['gato', 'perro', 'hamster', 'pez','loro' ]\n",
    "print(lista)\n",
    "lista.append('conejo') \n",
    "print(lista)\n",
    "lista[1] = 'axolote'\n",
    "print(lista)\n",
    "lista.pop(2)\n",
    "print(lista)\n"
   ]
  },
  {
   "cell_type": "markdown",
   "metadata": {},
   "source": [
    "Escribir un programa que itere en un rango de 10 veces. Por cada iteracion multiplicar el iterador por dos e imprimir el resultado."
   ]
  },
  {
   "cell_type": "code",
   "execution_count": 19,
   "metadata": {},
   "outputs": [
    {
     "name": "stdout",
     "output_type": "stream",
     "text": [
      "4\n",
      "8\n",
      "16\n",
      "32\n",
      "64\n",
      "128\n",
      "256\n",
      "512\n",
      "1024\n",
      "2048\n"
     ]
    }
   ],
   "source": [
    "contador = 1\n",
    "num = 2\n",
    "\n",
    "for contador in range(10) :\n",
    "    num = num * 2\n",
    "    print(num)\n",
    "\n",
    "\n",
    "\n",
    "\n"
   ]
  },
  {
   "cell_type": "markdown",
   "metadata": {},
   "source": [
    "Challenge 🤺 - 20m\n",
    "Recorrer los elementos de una lista de marcas e imprimir cada marca solamente si tiene 6 letras o más."
   ]
  },
  {
   "cell_type": "code",
   "execution_count": 26,
   "metadata": {},
   "outputs": [
    {
     "name": "stdout",
     "output_type": "stream",
     "text": [
      "colourpop\n",
      "maybelline\n",
      "loreal\n"
     ]
    }
   ],
   "source": [
    "lista_marca = ['colourpop','fenty','maybelline','mac','loreal']\n",
    "for marca in lista_marca:\n",
    "    if len(marca) >= 6 :\n",
    "        print(marca)\n",
    "    "
   ]
  },
  {
   "cell_type": "markdown",
   "metadata": {},
   "source": []
  },
  {
   "cell_type": "code",
   "execution_count": 35,
   "metadata": {},
   "outputs": [
    {
     "name": "stdout",
     "output_type": "stream",
     "text": [
      "hola\n",
      "hay una o\n"
     ]
    }
   ],
   "source": [
    "frase = input('ingrese una frase')\n",
    "frase = frase.lower()\n",
    "print(frase)\n",
    "for letras in frase : \n",
    "    if letras == 'o':\n",
    "     print('hay una o')\n"
   ]
  }
 ],
 "metadata": {
  "kernelspec": {
   "display_name": "3.7.3",
   "language": "python",
   "name": "python3"
  },
  "language_info": {
   "codemirror_mode": {
    "name": "ipython",
    "version": 3
   },
   "file_extension": ".py",
   "mimetype": "text/x-python",
   "name": "python",
   "nbconvert_exporter": "python",
   "pygments_lexer": "ipython3",
   "version": "3.12.4"
  }
 },
 "nbformat": 4,
 "nbformat_minor": 2
}
