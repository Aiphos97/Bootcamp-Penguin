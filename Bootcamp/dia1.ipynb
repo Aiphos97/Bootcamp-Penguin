{
 "cells": [
  {
   "cell_type": "code",
   "execution_count": 3,
   "metadata": {},
   "outputs": [
    {
     "name": "stdout",
     "output_type": "stream",
     "text": [
      "Hola Mundo\n",
      "Soy Sofía\n"
     ]
    }
   ],
   "source": [
    "print(\"Hola Mundo\")\n",
    "nombre = 'Sofía'\n",
    "print('Soy', nombre)"
   ]
  },
  {
   "cell_type": "code",
   "execution_count": 4,
   "metadata": {},
   "outputs": [
    {
     "name": "stdout",
     "output_type": "stream",
     "text": [
      "Hay 4 naranjas\n",
      "Ahora hay 1  banana\n"
     ]
    }
   ],
   "source": [
    "fruta = 'naranjas'\n",
    "cantidad_fruta = 4\n",
    "print('Hay',cantidad_fruta,fruta)\n",
    "fruta = 'banana'\n",
    "print('Ahora hay 1 ', fruta)"
   ]
  },
  {
   "cell_type": "code",
   "execution_count": 5,
   "metadata": {},
   "outputs": [
    {
     "name": "stdout",
     "output_type": "stream",
     "text": [
      "la cantidad de frutas totales es 18\n"
     ]
    }
   ],
   "source": [
    "cantidad_de_manzana = 8\n",
    "cantidad_de_naranjas = 10\n",
    "cantidad_de_frutas = cantidad_de_manzana + cantidad_de_naranjas\n",
    "print('la cantidad de frutas totales es', cantidad_de_frutas)"
   ]
  },
  {
   "cell_type": "code",
   "execution_count": 6,
   "metadata": {},
   "outputs": [
    {
     "name": "stdout",
     "output_type": "stream",
     "text": [
      "La cantidad de frutas restantes es 13\n"
     ]
    }
   ],
   "source": [
    "frutas_vendidas = 5\n",
    "frutas_restantes = cantidad_de_frutas - frutas_vendidas\n",
    "print('La cantidad de frutas restantes es',frutas_restantes)"
   ]
  },
  {
   "cell_type": "markdown",
   "metadata": {},
   "source": [
    "Asignar el nombre y el apellido de tu compañera/o a las variables nombre y apellido. Luego, imprimir una frase, utilizando las variables.\n",
    "EJEMPLO: \"Hola. Me llamo Claudia Melgarejo. Mucho gusto.\""
   ]
  },
  {
   "cell_type": "code",
   "execution_count": 7,
   "metadata": {},
   "outputs": [
    {
     "name": "stdout",
     "output_type": "stream",
     "text": [
      "Hola. Me llamo Luis Villalba. Mucho gusto.\n"
     ]
    }
   ],
   "source": [
    "nom_compa = 'Luis'\n",
    "ap_compa = 'Villalba'\n",
    "print('Hola. Me llamo '+ nom_compa + ' ' + ap_compa + '. Mucho gusto.')\n"
   ]
  },
  {
   "cell_type": "markdown",
   "metadata": {},
   "source": [
    "Solicitar al usuario ingresar dos números y almacenarlos en dos variables. Luego, imprimir la suma de los dos números.\n"
   ]
  },
  {
   "cell_type": "code",
   "execution_count": 8,
   "metadata": {},
   "outputs": [
    {
     "name": "stdout",
     "output_type": "stream",
     "text": [
      "Ingrese dos números\n"
     ]
    }
   ],
   "source": [
    "print('Ingrese dos números')\n",
    "num_1 = int(input(\"Número 1\"))\n",
    "num_2 = int(input(\"Número 2\" ))\n",
    "suma_num = num_1 + num_2\n",
    "print('El resultado de la suma de los números es: ' , suma_num)"
   ]
  },
  {
   "cell_type": "markdown",
   "metadata": {},
   "source": [
    " Challenge 🤺 - 20m\n",
    "Crear una función de un proceso que se les ocurra que tenga varios pasos.\n",
    "\n",
    "Ejecutar la función 3 veces."
   ]
  },
  {
   "cell_type": "code",
   "execution_count": null,
   "metadata": {},
   "outputs": [
    {
     "name": "stdout",
     "output_type": "stream",
     "text": [
      "Sofi te regalo un peluche imaginario de un/una foca de color turquesa.\n"
     ]
    }
   ],
   "source": [
    "def generador_peluche ():\n",
    "    col = input('Cual es tu color favorito?')\n",
    "    ani = input('Cual es tu animal favorito?')\n",
    "    nom = input('cual es tu nombre?')\n",
    "    print(f'{nom} te regalo un peluche imaginario de un/una {ani} de color {col}.')\n",
    "    \n",
    "\n",
    "generador_peluche()\n"
   ]
  },
  {
   "cell_type": "markdown",
   "metadata": {},
   "source": [
    "Challenge 🤺 - 25m\n",
    "Escribir una funcion que nos pregunte las caracteristicas de un elemento a comprar e imprima el elemento con sus caracteristicas.\n"
   ]
  },
  {
   "cell_type": "code",
   "execution_count": 22,
   "metadata": {},
   "outputs": [
    {
     "name": "stdout",
     "output_type": "stream",
     "text": [
      "\n",
      "*** Sale pedido ***\n",
      "🫖 El cliente pidió un filtrado expresso \n",
      "☕️ Es tipo latte \n",
      "🥛 Con leche entera \n",
      "🧋 agregado? : syrup de vainilla \n",
      "\n",
      "*   *   *\n",
      "\n",
      "*** Sale pedido ***\n",
      "🫖 El cliente pidió un filtrado coldbrew \n",
      "☕️ Es tipo americano \n",
      "🥛 Con nada de leche \n",
      "🧋 agregado? : no \n",
      "\n",
      "*   *   *\n",
      "\n",
      "*** Sale pedido ***\n",
      "🫖 El cliente pidió un filtrado filtrado \n",
      "☕️ Es tipo cortado \n",
      "🥛 Con leche deslactosada \n",
      "🧋 agregado? : canela \n",
      "\n",
      "*   *   *\n"
     ]
    }
   ],
   "source": [
    "def pedido_cafeteria (tipo_brew, tipo_cafe, tipo_leche,agregado):\n",
    "    print('\\n*** Sale pedido ***')\n",
    "    print(f'🫖 El cliente pidió un filtrado {tipo_brew} ')\n",
    "    print(f'☕️ Es tipo {tipo_cafe} ')\n",
    "    print(f'🥛 Con {tipo_leche} ')\n",
    "    print(f'🧋 agregado? : {agregado} ')\n",
    "    print('\\n*   *   *')\n",
    "\n",
    "\n",
    "pedido_cafeteria('expresso','latte','leche entera','syrup de vainilla')\n",
    "pedido_cafeteria('coldbrew','americano','nada de leche','no')\n",
    "pedido_cafeteria('filtrado', 'cortado','leche deslactosada' ,'canela')\n",
    "\n"
   ]
  }
 ],
 "metadata": {
  "kernelspec": {
   "display_name": "3.7.3",
   "language": "python",
   "name": "python3"
  },
  "language_info": {
   "codemirror_mode": {
    "name": "ipython",
    "version": 3
   },
   "file_extension": ".py",
   "mimetype": "text/x-python",
   "name": "python",
   "nbconvert_exporter": "python",
   "pygments_lexer": "ipython3",
   "version": "3.12.4"
  }
 },
 "nbformat": 4,
 "nbformat_minor": 2
}
