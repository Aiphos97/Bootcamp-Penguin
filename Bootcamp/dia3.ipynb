{
 "cells": [
  {
   "cell_type": "markdown",
   "metadata": {},
   "source": [
    "Challenge 1 🤺 - 15m\n",
    "Crear una función que imprima la variable palabra."
   ]
  },
  {
   "cell_type": "code",
   "execution_count": 2,
   "metadata": {},
   "outputs": [],
   "source": [
    "def palabra_imp ():\n",
    "  palabra = input(\"ingrese la palabra para imprimir\")\n",
    "  print(f'La palabra es {palabra}')\n",
    "\n",
    "palabra_imp()"
   ]
  },
  {
   "cell_type": "markdown",
   "metadata": {},
   "source": [
    "Challenge 5 🤺 - 25m\n",
    "Pedir al usuario que ingrese 1 palabra, luego convertir esa palabra a una lista con sus caracteres con list(). Agregar esa lista de caracteres a una lista llamada palabras_ingresadas. Repetir el proceso 3 veces. Cada vez que se agregue una lista de caracteres, imprimir la lista palabras_ingresadas.\n",
    "\n",
    "\n",
    "Ejemplo del resultado esperado:\n",
    "\n",
    "[['c', 'i', 'e', 'l', 'o']]\n",
    " # Al ingresar la primera palabra\n",
    "\n",
    "[['c', 'i', 'e', 'l', 'o'], ['c', 'a', 'l', 'o', 'r']]\n",
    " # Al ingresar la segunda palabra\n",
    "\n",
    "[['c', 'i', 'e', 'l', 'o'], ['c', 'a', 'l', 'o', 'r'], ['n', 'u', 'b', 'e', 's']]\n",
    " # Al ingresar la tercera palabra\n",
    "\n",
    " "
   ]
  },
  {
   "cell_type": "code",
   "execution_count": null,
   "metadata": {},
   "outputs": [],
   "source": [
    "lista = []\n",
    "for contador in range(3):\n",
    "    palabra_es = input(\"hola ingrese palabra\")\n",
    "    lista_temporal = []  \n",
    "    for letra in palabra_es:\n",
    "        lista_temporal.append(letra)\n",
    "    lista.append(lista_temporal) \n",
    "    print(lista)\n",
    "print(lista)"
   ]
  },
  {
   "cell_type": "markdown",
   "metadata": {},
   "source": [
    "seudocodigo es una forma de representar algoritmos utilizando una mezcla entre lenguaje natural y estructuras de programación, sin seguir la sintaxis estricta de un lenguaje de programación específico.\n",
    "#1. Pedir al usuario que ingrese una palabra\n",
    "#2. Convertir la palabra en una lista con \"list()\"\n",
    "#3. Agregar esa lista a otra lista con nombre palabra_ingresada\n",
    "#4. Imprimir palabra_ingresada\n",
    "\n",
    "\n",
    "#1. Pedir al usuario que ingrese una palabra\n",
    "#2. Convertir la palabra en una lista con \"list()\"\n",
    "#3. Agregar esa lista a otra lista con nombre palabra_ingresada\n",
    "#4. Imprimir palabra_ingresada\n",
    "\n",
    "#1. Pedir al usuario que ingrese una palabra\n",
    "#2. Convertir la palabra en una lista con \"list()\"\n",
    "#3. Agregar esa lista a otra lista con nombre palabra_ingresada\n",
    "#4. Imprimir palabra_ingresada"
   ]
  },
  {
   "cell_type": "markdown",
   "metadata": {},
   "source": [
    "Challenge 6 🤺 - 25m\n",
    "Dada la lista de ejemplo: \n",
    "\n",
    "lista = [['h', 'o', 'l', 'i', 's'], ['h', 'e', 'l', 'l', 'o'], ['h', 'a', 'l', 'l', 'o']]\n",
    "\n",
    "Crear una función que imprima una grilla (lista de listas), una línea por cada lista dentro de la lista principal.\n",
    "\n",
    "Ejemplo del resultado esperado:\n",
    "\n",
    "\n",
    "['h', 'o', 'l', 'i', 's']\n",
    "['h', 'e', 'l', 'l', 'o']\n",
    "['h', 'a', 'l', 'l', 'o']\n"
   ]
  },
  {
   "cell_type": "code",
   "execution_count": null,
   "metadata": {},
   "outputs": [],
   "source": [
    "lista = [['h', 'o', 'l', 'i', 's'], ['h', 'e', 'l', 'l', 'o'], ['h', 'a', 'l', 'l', 'o']]\n",
    "def grilla():\n",
    "    for letras in range(3):\n",
    "        print(lista[letras])\n",
    "    "
   ]
  },
  {
   "cell_type": "code",
   "execution_count": null,
   "metadata": {},
   "outputs": [],
   "source": [
    "lista = [['h', 'o', 'l', 'i', 's'], ['h', 'e', 'l', 'l', 'o'],]\n",
    "tamaño_lista = len(lista)\n",
    "\n",
    "def grilla(lista) :\n",
    "    for letras in range(tamaño_lista):\n",
    "     print(lista[letras])\n",
    "    \n",
    "grilla(lista)"
   ]
  },
  {
   "cell_type": "markdown",
   "metadata": {},
   "source": [
    "Las reglas son simples: adivina la palabra oculta en 6 intentos. Cada intento debe ser una palabra validá y si la palabra no existe el juego te avisará.\n",
    "\n",
    "Después de cada intento el color de las casillas cambia para mostrar qué tan cerca estás de acertar la palabra\n",
    "\n",
    "\n",
    "VERDE significa que la letra está en la palabra y en la posición CORRECTA.\n",
    "\n",
    "\n",
    "AMARILLO significa que la letra letra está presente en la palabra pero en la posición INCORRECTA.\n",
    "\n",
    "\n",
    "GRIS significa que la letra letra NO está presente en la palabra."
   ]
  },
  {
   "cell_type": "code",
   "execution_count": null,
   "metadata": {},
   "outputs": [
    {
     "data": {
      "text/plain": [
       "['c', 'a', '(s)', '(o)', 't']"
      ]
     },
     "execution_count": 2,
     "metadata": {},
     "output_type": "execute_result"
    }
   ],
   "source": [
    "palabra_a_encontrar = 'perro'\n",
    "palabra_ingresada = 'perro'\n",
    "\n",
    "def obtener_fila_verificada(palabra_a_encontrar, palabra_ingresada):\n",
    "    cantidad_de_letras = 5\n",
    "\n",
    "    letras_verficadas = []\n",
    "\n",
    "    for posicion in range(cantidad_de_letras):\n",
    "        #Si la letra coincide con la posicion\n",
    "        letras_son_iguales = palabra_a_encontrar[posicion] == palabra_ingresada[posicion]\n",
    "\n",
    "        la_letra_existe_en_la_palabra = palabra_ingresada[posicion] in palabra_a_encontrar\n",
    "\n",
    "        if letras_son_iguales:\n",
    "\n",
    "            letras_verficadas.append(\"[\" + palabra_ingresada[posicion] + \"]\")\n",
    "        \n",
    "        elif la_letra_existe_en_la_palabra:\n",
    "            letras_verficadas.append(f\"({palabra_ingresada[posicion]})\")\n",
    "\n",
    "        else:\n",
    "            letras_verficadas.append(palabra_ingresada[posicion])\n",
    "\n",
    "    return letras_verficadas\n",
    "\n",
    "obtener_fila_verificada('queso','casot')"
   ]
  },
  {
   "cell_type": "code",
   "execution_count": null,
   "metadata": {},
   "outputs": [
    {
     "ename": "NameError",
     "evalue": "name 'obtener_fila_verificada' is not defined",
     "output_type": "error",
     "traceback": [
      "\u001b[31m---------------------------------------------------------------------------\u001b[39m",
      "\u001b[31mNameError\u001b[39m                                 Traceback (most recent call last)",
      "\u001b[36mCell\u001b[39m\u001b[36m \u001b[39m\u001b[32mIn[1]\u001b[39m\u001b[32m, line 7\u001b[39m\n\u001b[32m      5\u001b[39m palabra_ingresada= \u001b[38;5;28minput\u001b[39m(\u001b[33m'\u001b[39m\u001b[33mItente adivinar la palabra\u001b[39m\u001b[33m'\u001b[39m)\n\u001b[32m      6\u001b[39m intentos = intentos - \u001b[32m1\u001b[39m\n\u001b[32m----> \u001b[39m\u001b[32m7\u001b[39m \u001b[43mobtener_fila_verificada\u001b[49m(palabra_a_encontrar,palabra_ingresada)\n\u001b[32m      8\u001b[39m \u001b[38;5;28mprint\u001b[39m(\u001b[33mf\u001b[39m\u001b[33m'\u001b[39m\u001b[33mPuso la palabra\u001b[39m\u001b[38;5;132;01m{\u001b[39;00mpalabra_ingresada\u001b[38;5;132;01m}\u001b[39;00m\u001b[33m'\u001b[39m)\n\u001b[32m      9\u001b[39m \u001b[38;5;28mprint\u001b[39m(\u001b[33mf\u001b[39m\u001b[33m'\u001b[39m\u001b[33mLe quedan\u001b[39m\u001b[38;5;132;01m{\u001b[39;00mintentos\u001b[38;5;132;01m}\u001b[39;00m\u001b[33m intentos\u001b[39m\u001b[33m'\u001b[39m)\n",
      "\u001b[31mNameError\u001b[39m: name 'obtener_fila_verificada' is not defined"
     ]
    }
   ],
   "source": [
    "intentos = 5\n",
    "palabra_a_encontrar = 'PASTO'\n",
    "\n",
    "while intentos > 0 :\n",
    "    palabra_ingresada= input('Itente adivinar la palabra')\n",
    "    intentos = intentos - 1\n",
    "    obtener_fila_verificada(palabra_a_encontrar,palabra_ingresada)\n",
    "    print(f'Puso la palabra{palabra_ingresada}')\n",
    "    print(f'Le quedan{intentos} intentos')\n",
    "\n",
    "def obtener_fila_verificada(palabra_a_encontrar, palabra_ingresada):\n",
    "    cantidad_de_letras = 5\n",
    "\n",
    "    letras_verficadas = []\n",
    "\n",
    "    for posicion in range(cantidad_de_letras):\n",
    "        #Si la letra coincide con la posicion\n",
    "        letras_son_iguales = palabra_a_encontrar[posicion] == palabra_ingresada[posicion]\n",
    "\n",
    "        la_letra_existe_en_la_palabra = palabra_ingresada[posicion] in palabra_a_encontrar\n",
    "\n",
    "        if letras_son_iguales:\n",
    "\n",
    "            letras_verficadas.append(\"[\" + palabra_ingresada[posicion] + \"]\")\n",
    "        \n",
    "        elif la_letra_existe_en_la_palabra:\n",
    "            letras_verficadas.append(f\"({palabra_ingresada[posicion]})\")\n",
    "\n",
    "        else:\n",
    "            letras_verficadas.append(palabra_ingresada[posicion])\n",
    "\n",
    "    return letras_verficadas\n",
    "\n"
   ]
  },
  {
   "cell_type": "code",
   "execution_count": null,
   "metadata": {},
   "outputs": [],
   "source": []
  },
  {
   "cell_type": "code",
   "execution_count": null,
   "metadata": {},
   "outputs": [
    {
     "data": {
      "text/plain": [
       "['[P]', '[A]', 'R', '[T]', '[O]']"
      ]
     },
     "execution_count": 3,
     "metadata": {},
     "output_type": "execute_result"
    }
   ],
   "source": [
    "\n",
    "\n",
    "def obtener_fila_verificada(palabra_a_encontrar, palabra_ingresada):\n",
    "    cantidad_de_letras = 5\n",
    "\n",
    "    letras_verficadas = []\n",
    "\n",
    "    for posicion in range(cantidad_de_letras):\n",
    "        #Si la letra coincide con la posicion\n",
    "        letras_son_iguales = palabra_a_encontrar[posicion] == palabra_ingresada[posicion]\n",
    "\n",
    "        la_letra_existe_en_la_palabra = palabra_ingresada[posicion] in palabra_a_encontrar\n",
    "\n",
    "        if letras_son_iguales:\n",
    "\n",
    "            letras_verficadas.append(\"[\" + palabra_ingresada[posicion] + \"]\")\n",
    "        \n",
    "        elif la_letra_existe_en_la_palabra:\n",
    "            letras_verficadas.append(f\"({palabra_ingresada[posicion]})\")\n",
    "\n",
    "        else:\n",
    "            letras_verficadas.append(palabra_ingresada[posicion])\n",
    "\n",
    "    return letras_verficadas\n",
    "\n",
    "obtener_fila_verificada('PASTO','PARTO')"
   ]
  },
  {
   "cell_type": "code",
   "execution_count": 3,
   "metadata": {},
   "outputs": [
    {
     "name": "stdout",
     "output_type": "stream",
     "text": [
      "['h', 'o', 'l', 'a', 's']\n",
      "Le quedan4 intentos\n",
      "['[P]', '[A]', '[S]', 'E', '[O]']\n",
      "Le quedan3 intentos\n"
     ]
    },
    {
     "ename": "IndexError",
     "evalue": "string index out of range",
     "output_type": "error",
     "traceback": [
      "\u001b[31m---------------------------------------------------------------------------\u001b[39m",
      "\u001b[31mIndexError\u001b[39m                                Traceback (most recent call last)",
      "\u001b[36mCell\u001b[39m\u001b[36m \u001b[39m\u001b[32mIn[3]\u001b[39m\u001b[32m, line 35\u001b[39m\n\u001b[32m     33\u001b[39m palabra_intento= \u001b[38;5;28minput\u001b[39m(\u001b[33m'\u001b[39m\u001b[33mItente adivinar la palabra\u001b[39m\u001b[33m'\u001b[39m)\n\u001b[32m     34\u001b[39m intentos = intentos - \u001b[32m1\u001b[39m\n\u001b[32m---> \u001b[39m\u001b[32m35\u001b[39m \u001b[43mobtener_fila_verificada\u001b[49m\u001b[43m(\u001b[49m\u001b[43mpalabra_de_dia\u001b[49m\u001b[43m,\u001b[49m\u001b[43mpalabra_intento\u001b[49m\u001b[43m)\u001b[49m\n\u001b[32m     36\u001b[39m \u001b[38;5;28mprint\u001b[39m(\u001b[33mf\u001b[39m\u001b[33m'\u001b[39m\u001b[33mLe quedan\u001b[39m\u001b[38;5;132;01m{\u001b[39;00mintentos\u001b[38;5;132;01m}\u001b[39;00m\u001b[33m intentos\u001b[39m\u001b[33m'\u001b[39m)\n",
      "\u001b[36mCell\u001b[39m\u001b[36m \u001b[39m\u001b[32mIn[3]\u001b[39m\u001b[32m, line 11\u001b[39m, in \u001b[36mobtener_fila_verificada\u001b[39m\u001b[34m(palabra_a_encontrar, palabra_ingresada)\u001b[39m\n\u001b[32m      7\u001b[39m letras_verficadas = []\n\u001b[32m      9\u001b[39m \u001b[38;5;28;01mfor\u001b[39;00m posicion \u001b[38;5;129;01min\u001b[39;00m \u001b[38;5;28mrange\u001b[39m(cantidad_de_letras):\n\u001b[32m     10\u001b[39m     \u001b[38;5;66;03m#Si la letra coincide con la posicion\u001b[39;00m\n\u001b[32m---> \u001b[39m\u001b[32m11\u001b[39m     letras_son_iguales = palabra_a_encontrar[posicion] == \u001b[43mpalabra_ingresada\u001b[49m\u001b[43m[\u001b[49m\u001b[43mposicion\u001b[49m\u001b[43m]\u001b[49m\n\u001b[32m     13\u001b[39m     la_letra_existe_en_la_palabra = palabra_ingresada[posicion] \u001b[38;5;129;01min\u001b[39;00m palabra_a_encontrar\n\u001b[32m     15\u001b[39m     \u001b[38;5;28;01mif\u001b[39;00m letras_son_iguales:\n",
      "\u001b[31mIndexError\u001b[39m: string index out of range"
     ]
    }
   ],
   "source": [
    "palabra_de_dia = 'PASTO'\n",
    "intentos = 5\n",
    "\n",
    "def obtener_fila_verificada(palabra_a_encontrar, palabra_ingresada):\n",
    "    cantidad_de_letras = 5\n",
    "\n",
    "    letras_verficadas = []\n",
    "\n",
    "    for posicion in range(cantidad_de_letras):\n",
    "        #Si la letra coincide con la posicion\n",
    "        letras_son_iguales = palabra_a_encontrar[posicion] == palabra_ingresada[posicion]\n",
    "\n",
    "        la_letra_existe_en_la_palabra = palabra_ingresada[posicion] in palabra_a_encontrar\n",
    "\n",
    "        if letras_son_iguales:\n",
    "\n",
    "            letras_verficadas.append(\"[\" + palabra_ingresada[posicion] + \"]\")\n",
    "        \n",
    "        elif la_letra_existe_en_la_palabra:\n",
    "            letras_verficadas.append(f\"({palabra_ingresada[posicion]})\")\n",
    "\n",
    "        else:\n",
    "            letras_verficadas.append(palabra_ingresada[posicion])\n",
    "    print(letras_verficadas)\n",
    "\n",
    "    return letras_verficadas\n",
    "    \n",
    "    \n",
    "\n",
    "\n",
    "while intentos > 0 :\n",
    "    palabra_intento= input('Itente adivinar la palabra')\n",
    "    intentos = intentos - 1\n",
    "    obtener_fila_verificada(palabra_de_dia,palabra_intento)\n",
    "    for posicion in range(5):\n",
    "        \n",
    "    print(f'Le quedan{intentos} intentos')\n"
   ]
  },
  {
   "cell_type": "code",
   "execution_count": null,
   "metadata": {},
   "outputs": [],
   "source": []
  },
  {
   "cell_type": "code",
   "execution_count": null,
   "metadata": {},
   "outputs": [],
   "source": []
  },
  {
   "cell_type": "code",
   "execution_count": null,
   "metadata": {},
   "outputs": [],
   "source": []
  },
  {
   "cell_type": "code",
   "execution_count": 8,
   "metadata": {},
   "outputs": [
    {
     "name": "stdout",
     "output_type": "stream",
     "text": [
      "['(T)', '(O)', '(T)', '(A)', 'L']\n",
      "Le quedan 4 intentos\n",
      "['(T)', '(O)', '(T)', '(A)', 'L']\n",
      "['[P]', '[A]', '[S]', '[T]', '[O]']\n",
      "Ganaste la palabra del dia es: PASTO\n"
     ]
    }
   ],
   "source": [
    "palabra_de_dia = 'PASTO'\n",
    "intentos = 0\n",
    "grilla_intentos = []\n",
    "def obtener_fila_verificada(palabra_a_encontrar, palabra_ingresada):\n",
    "    cantidad_de_letras = 5\n",
    "\n",
    "    letras_verficadas = []\n",
    "    for posicion in range(cantidad_de_letras):\n",
    "        #Si la letra coincide con la posicion\n",
    "        letras_son_iguales = palabra_a_encontrar[posicion] == palabra_ingresada[posicion]\n",
    "\n",
    "        la_letra_existe_en_la_palabra = palabra_ingresada[posicion] in palabra_a_encontrar\n",
    "\n",
    "        aux = palabra_a_encontrar.count(palabra_ingresada[posicion])\n",
    "\n",
    "        if letras_son_iguales:\n",
    "\n",
    "            letras_verficadas.append(\"[\" + palabra_ingresada[posicion] + \"]\")\n",
    "\n",
    "        elif la_letra_existe_en_la_palabra:\n",
    "            letras_verficadas.append(f\"({palabra_ingresada[posicion]})\")\n",
    "\n",
    "        else:\n",
    "            letras_verficadas.append(palabra_ingresada[posicion])\n",
    "        aux = palabra_a_encontrar.count(palabra_ingresada[posicion])\n",
    "    return letras_verficadas\n",
    "\n",
    "def validacion_palabra(cifras_palabra_oculta):\n",
    "    palabra = input('Encuentra la palabra oculta:')\n",
    "    while (not palabra.isalpha() or len(palabra)!=cifras_palabra_oculta):\n",
    "        print('La palabra ingresada es invalida')\n",
    "        palabra = input(\"Ingrese una palabra valida:\")\n",
    "\n",
    "\n",
    "    return palabra.upper()\n",
    "\n",
    "\n",
    "while intentos<4:\n",
    "    palabra_intento= validacion_palabra(len(palabra_de_dia))\n",
    "    obtener_fila_verificada(palabra_de_dia,palabra_intento)\n",
    "    grilla_intentos.append(obtener_fila_verificada(palabra_de_dia,palabra_intento))\n",
    "    for iterador in grilla_intentos:\n",
    "        print(iterador)\n",
    "    if palabra_intento==palabra_de_dia:\n",
    "        print(f'Ganaste la palabra del dia es: {palabra_de_dia}')\n",
    "        break\n",
    "    else:\n",
    "        intentos = intentos + 1\n",
    "        print(f'Le quedan {5-(intentos)} intentos')\n",
    "\n",
    "    if(intentos == 5):\n",
    "        print(\"Has perdidos el juego. te quedaste sin intentos\")\n",
    "        print(f'La palabra del dia era {palabra_de_dia}')\n"
   ]
  }
 ],
 "metadata": {
  "kernelspec": {
   "display_name": "3.7.3",
   "language": "python",
   "name": "python3"
  },
  "language_info": {
   "codemirror_mode": {
    "name": "ipython",
    "version": 3
   },
   "file_extension": ".py",
   "mimetype": "text/x-python",
   "name": "python",
   "nbconvert_exporter": "python",
   "pygments_lexer": "ipython3",
   "version": "3.12.4"
  }
 },
 "nbformat": 4,
 "nbformat_minor": 2
}
